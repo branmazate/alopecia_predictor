{
 "cells": [
  {
   "cell_type": "markdown",
   "metadata": {},
   "source": [
    "# EDA"
   ]
  },
  {
   "cell_type": "markdown",
   "metadata": {},
   "source": [
    "Importing libraries"
   ]
  },
  {
   "cell_type": "code",
   "execution_count": null,
   "metadata": {},
   "outputs": [
    {
     "name": "stderr",
     "output_type": "stream",
     "text": [
      "[nltk_data] Downloading package stopwords to\n",
      "[nltk_data]     /Users/andresgarciarobles/nltk_data...\n",
      "[nltk_data]   Package stopwords is already up-to-date!\n"
     ]
    }
   ],
   "source": [
    "import sys\n",
    "import os\n",
    "import sqlite3\n",
    "import pandas as pd\n",
    "from sklearn.cluster import KMeans\n",
    "from sklearn.decomposition import PCA\n",
    "import matplotlib.pyplot as plt\n",
    "\n",
    "sys.path.append(os.path.abspath(\"../src\"))\n",
    "\n",
    "from utils.text_processing import clean_text, get_bert_embeddings"
   ]
  },
  {
   "cell_type": "code",
   "execution_count": 3,
   "metadata": {},
   "outputs": [],
   "source": [
    "#Getting de database\n",
    "connection = sqlite3.connect('../data/raw/pubmed_data.db')\n",
    "df = pd.read_sql_query(\"SELECT * FROM pubmed_data\", connection)\n",
    "connection.close()"
   ]
  },
  {
   "cell_type": "code",
   "execution_count": 4,
   "metadata": {},
   "outputs": [
    {
     "name": "stdout",
     "output_type": "stream",
     "text": [
      "0    recurrent highgrade intracranial malignancy gr...\n",
      "1    purpose smallcell lung cancer sclc account app...\n",
      "2    background androgenic alopecia aga commonly kn...\n",
      "3    background neoadjuvant chemotherapy may consid...\n",
      "4    background cicatricial alopecias chronic progr...\n",
      "Name: cleaned_abstract, dtype: object\n"
     ]
    }
   ],
   "source": [
    "#Cleaning text\n",
    "df['cleaned_abstract'] = df['abstract'].apply(clean_text)\n",
    "\n",
    "print(df['cleaned_abstract'].head())"
   ]
  },
  {
   "cell_type": "markdown",
   "metadata": {},
   "source": [
    "Since we have no labeled data I will take a non-supervised approach and make semantic clustering of the data."
   ]
  },
  {
   "cell_type": "code",
   "execution_count": null,
   "metadata": {},
   "outputs": [
    {
     "name": "stdout",
     "output_type": "stream",
     "text": [
      "Topic 0:\n",
      "['diagnosis', 'scalp', 'disease', 'clinical', 'treatment', 'loss', 'case', 'alopecia', 'patient', 'hair']\n",
      "Topic 1:\n",
      "['van', 'critically', 'ill', 'modify', 'icu', 'subcutaneous', 'folfox', 'prostate', 'chop', 'cat']\n",
      "Topic 2:\n",
      "['hairline', 'color', 'hgps', 'recession', 'planus', 'frontotemporal', 'lichen', 'frontal', 'fibrose', 'ffa']\n",
      "Topic 3:\n",
      "['pruritus', 'chinese', 'cognitive', 'eastern', 'melanoma', 'braf', 'tdm', 'htra', 'carasil', 'vemurafenib']\n",
      "Topic 4:\n",
      "['grade', 'day', 'rate', 'cancer', 'toxicity', 'median', 'response', 'month', 'survival', 'patient']\n"
     ]
    }
   ],
   "source": [
    "df['BERT_embeddings'] = df['cleaned_abstract'].apply(get_bert_embeddings)"
   ]
  }
 ],
 "metadata": {
  "kernelspec": {
   "display_name": "pubmed_research",
   "language": "python",
   "name": "python3"
  },
  "language_info": {
   "codemirror_mode": {
    "name": "ipython",
    "version": 3
   },
   "file_extension": ".py",
   "mimetype": "text/x-python",
   "name": "python",
   "nbconvert_exporter": "python",
   "pygments_lexer": "ipython3",
   "version": "3.10.15"
  }
 },
 "nbformat": 4,
 "nbformat_minor": 2
}
